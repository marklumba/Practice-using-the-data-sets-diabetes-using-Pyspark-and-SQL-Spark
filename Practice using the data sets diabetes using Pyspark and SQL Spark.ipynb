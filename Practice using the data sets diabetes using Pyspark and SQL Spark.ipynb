{
 "cells": [
  {
   "cell_type": "code",
   "execution_count": 5,
   "id": "c1c55d4d",
   "metadata": {},
   "outputs": [],
   "source": [
    "from pyspark.sql import SparkSession"
   ]
  },
  {
   "cell_type": "code",
   "execution_count": 6,
   "id": "4444adcd",
   "metadata": {},
   "outputs": [],
   "source": [
    "spark=SparkSession.builder.appName(\"Test_3\").getOrCreate()"
   ]
  },
  {
   "cell_type": "code",
   "execution_count": 7,
   "id": "3b21040e",
   "metadata": {
    "scrolled": true
   },
   "outputs": [
    {
     "data": {
      "text/html": [
       "\n",
       "            <div>\n",
       "                <p><b>SparkSession - in-memory</b></p>\n",
       "                \n",
       "        <div>\n",
       "            <p><b>SparkContext</b></p>\n",
       "\n",
       "            <p><a href=\"http://LAPTOP-GL2O18SO:4041\">Spark UI</a></p>\n",
       "\n",
       "            <dl>\n",
       "              <dt>Version</dt>\n",
       "                <dd><code>v3.3.1</code></dd>\n",
       "              <dt>Master</dt>\n",
       "                <dd><code>local[*]</code></dd>\n",
       "              <dt>AppName</dt>\n",
       "                <dd><code>Test_3</code></dd>\n",
       "            </dl>\n",
       "        </div>\n",
       "        \n",
       "            </div>\n",
       "        "
      ],
      "text/plain": [
       "<pyspark.sql.session.SparkSession at 0x285b276cb80>"
      ]
     },
     "execution_count": 7,
     "metadata": {},
     "output_type": "execute_result"
    }
   ],
   "source": [
    "spark"
   ]
  },
  {
   "cell_type": "code",
   "execution_count": 8,
   "id": "8c23cf1e",
   "metadata": {},
   "outputs": [],
   "source": [
    "# Read csv file in local\n",
    "df = spark.read.csv(\"C:\\\\Users\\\\IA-User\\\\Desktop\\\\diabetes.csv\", header=True, inferSchema=True)"
   ]
  },
  {
   "cell_type": "code",
   "execution_count": 9,
   "id": "00ca6b6e",
   "metadata": {},
   "outputs": [
    {
     "name": "stdout",
     "output_type": "stream",
     "text": [
      "+-----------+-------+-------------+-------------+-------+----+------------------------+---+-------+\n",
      "|Pregnancies|Glucose|BloodPressure|SkinThickness|Insulin| BMI|DiabetesPedigreeFunction|Age|Outcome|\n",
      "+-----------+-------+-------------+-------------+-------+----+------------------------+---+-------+\n",
      "|          6|    148|           72|           35|      0|33.6|                   0.627| 50|      1|\n",
      "|          1|     85|           66|           29|      0|26.6|                   0.351| 31|      0|\n",
      "|          8|    183|           64|            0|      0|23.3|                   0.672| 32|      1|\n",
      "|          1|     89|           66|           23|     94|28.1|                   0.167| 21|      0|\n",
      "|          0|    137|           40|           35|    168|43.1|                   2.288| 33|      1|\n",
      "|          5|    116|           74|            0|      0|25.6|                   0.201| 30|      0|\n",
      "|          3|     78|           50|           32|     88|31.0|                   0.248| 26|      1|\n",
      "|         10|    115|            0|            0|      0|35.3|                   0.134| 29|      0|\n",
      "|          2|    197|           70|           45|    543|30.5|                   0.158| 53|      1|\n",
      "|          8|    125|           96|            0|      0| 0.0|                   0.232| 54|      1|\n",
      "|          4|    110|           92|            0|      0|37.6|                   0.191| 30|      0|\n",
      "|         10|    168|           74|            0|      0|38.0|                   0.537| 34|      1|\n",
      "|         10|    139|           80|            0|      0|27.1|                   1.441| 57|      0|\n",
      "|          1|    189|           60|           23|    846|30.1|                   0.398| 59|      1|\n",
      "|          5|    166|           72|           19|    175|25.8|                   0.587| 51|      1|\n",
      "|          7|    100|            0|            0|      0|30.0|                   0.484| 32|      1|\n",
      "|          0|    118|           84|           47|    230|45.8|                   0.551| 31|      1|\n",
      "|          7|    107|           74|            0|      0|29.6|                   0.254| 31|      1|\n",
      "|          1|    103|           30|           38|     83|43.3|                   0.183| 33|      0|\n",
      "|          1|    115|           70|           30|     96|34.6|                   0.529| 32|      1|\n",
      "+-----------+-------+-------------+-------------+-------+----+------------------------+---+-------+\n",
      "only showing top 20 rows\n",
      "\n"
     ]
    }
   ],
   "source": [
    "# Read all\n",
    "df.show()"
   ]
  },
  {
   "cell_type": "code",
   "execution_count": 10,
   "id": "68cecb29",
   "metadata": {},
   "outputs": [
    {
     "name": "stdout",
     "output_type": "stream",
     "text": [
      "+-----------+-------+-------------+-------------+-------+----+------------------------+---+-------+\n",
      "|Pregnancies|Glucose|BloodPressure|SkinThickness|Insulin| BMI|DiabetesPedigreeFunction|Age|Outcome|\n",
      "+-----------+-------+-------------+-------------+-------+----+------------------------+---+-------+\n",
      "|          6|    148|           72|           35|      0|33.6|                   0.627| 50|      1|\n",
      "|          1|     85|           66|           29|      0|26.6|                   0.351| 31|      0|\n",
      "|          8|    183|           64|            0|      0|23.3|                   0.672| 32|      1|\n",
      "|          1|     89|           66|           23|     94|28.1|                   0.167| 21|      0|\n",
      "|          0|    137|           40|           35|    168|43.1|                   2.288| 33|      1|\n",
      "+-----------+-------+-------------+-------------+-------+----+------------------------+---+-------+\n",
      "only showing top 5 rows\n",
      "\n"
     ]
    }
   ],
   "source": [
    "# Read 5 columns and rows\n",
    "df.show(5)"
   ]
  },
  {
   "cell_type": "code",
   "execution_count": 11,
   "id": "54c23f31",
   "metadata": {},
   "outputs": [
    {
     "name": "stdout",
     "output_type": "stream",
     "text": [
      "root\n",
      " |-- Pregnancies: integer (nullable = true)\n",
      " |-- Glucose: integer (nullable = true)\n",
      " |-- BloodPressure: integer (nullable = true)\n",
      " |-- SkinThickness: integer (nullable = true)\n",
      " |-- Insulin: integer (nullable = true)\n",
      " |-- BMI: double (nullable = true)\n",
      " |-- DiabetesPedigreeFunction: double (nullable = true)\n",
      " |-- Age: integer (nullable = true)\n",
      " |-- Outcome: integer (nullable = true)\n",
      "\n"
     ]
    }
   ],
   "source": [
    "# show schema\n",
    "df.printSchema()"
   ]
  },
  {
   "cell_type": "code",
   "execution_count": 14,
   "id": "bca11fb9",
   "metadata": {},
   "outputs": [
    {
     "name": "stdout",
     "output_type": "stream",
     "text": [
      "+-------+-------+\n",
      "|Glucose|Outcome|\n",
      "+-------+-------+\n",
      "|    148|      1|\n",
      "|     85|      0|\n",
      "|    183|      1|\n",
      "|     89|      0|\n",
      "|    137|      1|\n",
      "+-------+-------+\n",
      "only showing top 5 rows\n",
      "\n"
     ]
    }
   ],
   "source": [
    "# Selecting particular column\n",
    "df.select(\"Glucose\", \"Outcome\").show(5)"
   ]
  },
  {
   "cell_type": "code",
   "execution_count": 22,
   "id": "548dc127",
   "metadata": {
    "scrolled": true
   },
   "outputs": [
    {
     "name": "stdout",
     "output_type": "stream",
     "text": [
      "+-------+---+\n",
      "|Glucose|Age|\n",
      "+-------+---+\n",
      "|    148| 50|\n",
      "|     85| 31|\n",
      "|    183| 32|\n",
      "|     89| 21|\n",
      "|    137| 33|\n",
      "|    116| 30|\n",
      "|     78| 26|\n",
      "|    115| 29|\n",
      "|    197| 53|\n",
      "|    125| 54|\n",
      "|    110| 30|\n",
      "|    168| 34|\n",
      "|    139| 57|\n",
      "|    189| 59|\n",
      "|    166| 51|\n",
      "|    100| 32|\n",
      "|    118| 31|\n",
      "|    107| 31|\n",
      "|    103| 33|\n",
      "|    115| 32|\n",
      "+-------+---+\n",
      "only showing top 20 rows\n",
      "\n"
     ]
    }
   ],
   "source": [
    "df.select(\"Glucose\", \"Age\").show()"
   ]
  },
  {
   "cell_type": "markdown",
   "id": "98e20931",
   "metadata": {},
   "source": [
    "# Practice in SQL"
   ]
  },
  {
   "cell_type": "code",
   "execution_count": 25,
   "id": "55cd8590",
   "metadata": {},
   "outputs": [],
   "source": [
    "# create a temporary view so that it can be used as a SQL table\n",
    "df.createTempView(\"diabetes\")"
   ]
  },
  {
   "cell_type": "markdown",
   "id": "679c81e7",
   "metadata": {},
   "source": [
    "### 1. How many persons that are greater than 50 years old and has 2 or more child have diabetes?"
   ]
  },
  {
   "cell_type": "code",
   "execution_count": 26,
   "id": "2df7adf0",
   "metadata": {},
   "outputs": [
    {
     "name": "stdout",
     "output_type": "stream",
     "text": [
      "+-------------+\n",
      "|Diabetesfifty|\n",
      "+-------------+\n",
      "|           30|\n",
      "+-------------+\n",
      "\n"
     ]
    }
   ],
   "source": [
    "df = spark.sql(\"SELECT SUM(Outcome) As Diabetesfifty From diabetes Where Pregnancies > 2 AND Age > 50\").show()"
   ]
  },
  {
   "cell_type": "markdown",
   "id": "f54e59ba",
   "metadata": {},
   "source": [
    "### 2. Get total count of persons that have and do not have diabetes"
   ]
  },
  {
   "cell_type": "code",
   "execution_count": 30,
   "id": "ed9369ef",
   "metadata": {},
   "outputs": [
    {
     "name": "stdout",
     "output_type": "stream",
     "text": [
      "+--------------------+-----------------------+\n",
      "|people_with_diabetes|no_people_with_diabetes|\n",
      "+--------------------+-----------------------+\n",
      "|                 268|                    500|\n",
      "+--------------------+-----------------------+\n",
      "\n"
     ]
    }
   ],
   "source": [
    "df = spark.sql(\"\"\"SELECT(SELECT COUNT(Outcome) FROM diabetes WHERE Outcome = 1) as people_with_diabetes,\n",
    "               (SELECT COUNT(Outcome)\n",
    "                FROM diabetes WHERE Outcome = 0) as no_people_with_diabetes\"\"\").show()"
   ]
  },
  {
   "cell_type": "markdown",
   "id": "6f624e33",
   "metadata": {},
   "source": [
    "### 3. Get total count of persons that have diabetes per age"
   ]
  },
  {
   "cell_type": "code",
   "execution_count": 29,
   "id": "8b13e103",
   "metadata": {},
   "outputs": [
    {
     "name": "stdout",
     "output_type": "stream",
     "text": [
      "+--------+-------------+-------------+-------------+-------------+-------------+-------------+-------------+-------------+\n",
      "|Under_18|BETWEEN_18_24|BETWEEN_25_34|BETWEEN_35_44|BETWEEN_45_54|BETWEEN_55_64|BETWEEN_65_74|BETWEEN_75_84|BETWEEN_85_94|\n",
      "+--------+-------------+-------------+-------------+-------------+-------------+-------------+-------------+-------------+\n",
      "|       0|          219|          269|          147|           79|           38|           15|            1|            0|\n",
      "+--------+-------------+-------------+-------------+-------------+-------------+-------------+-------------+-------------+\n",
      "\n"
     ]
    }
   ],
   "source": [
    "df = spark.sql(\"\"\"SELECT SUM(CASE WHEN Age < 18 THEN 1 ELSE 0 END) AS Under_18,\n",
    "               SUM(CASE WHEN Age BETWEEN 18 AND 24 THEN 1 ELSE 0 END) AS BETWEEN_18_24,\n",
    "               SUM(CASE WHEN Age BETWEEN 25 AND 34 THEN 1 ELSE 0 END) AS BETWEEN_25_34,\n",
    "               SUM(CASE WHEN Age BETWEEN 35 AND 44 THEN 1 ELSE 0 END) AS BETWEEN_35_44,\n",
    "               SUM(CASE WHEN Age BETWEEN 45 AND 54 THEN 1 ELSE 0 END) AS BETWEEN_45_54,\n",
    "               SUM(CASE WHEN Age BETWEEN 55 AND 64 THEN 1 ELSE 0 END) AS BETWEEN_55_64,\n",
    "               SUM(CASE WHEN Age BETWEEN 65 AND 74 THEN 1 ELSE 0 END) AS BETWEEN_65_74,\n",
    "               SUM(CASE WHEN Age BETWEEN 75 AND 84 THEN 1 ELSE 0 END) AS BETWEEN_75_84,\n",
    "               SUM(CASE WHEN Age BETWEEN 85 AND 94 THEN 1 ELSE 0 END) AS BETWEEN_85_94\n",
    "            FROM diabetes \"\"\").show()"
   ]
  },
  {
   "cell_type": "code",
   "execution_count": null,
   "id": "03179f36",
   "metadata": {},
   "outputs": [],
   "source": []
  }
 ],
 "metadata": {
  "kernelspec": {
   "display_name": "Python 3 (ipykernel)",
   "language": "python",
   "name": "python3"
  },
  "language_info": {
   "codemirror_mode": {
    "name": "ipython",
    "version": 3
   },
   "file_extension": ".py",
   "mimetype": "text/x-python",
   "name": "python",
   "nbconvert_exporter": "python",
   "pygments_lexer": "ipython3",
   "version": "3.9.13"
  }
 },
 "nbformat": 4,
 "nbformat_minor": 5
}
